{
 "cells": [
  {
   "cell_type": "markdown",
   "metadata": {},
   "source": [
    "# Geos-Chem analysis"
   ]
  },
  {
   "cell_type": "markdown",
   "metadata": {},
   "source": [
    "Este notebook possibilita realizar a análise da saída do Geos-Chem. Ele conta com instruções para:\n",
    "\n",
    "- Abertura do arquivo de saída em formatos `netcdf` e `bpch`\n",
    "- Leitura das variáveis, atributos e coordenadas\n",
    "- Exibição da concentração do elemento químico com e sem cartografia\n",
    "- Exibição interativa com seleção da variável e lev\n",
    "\n",
    "Importação das bibliotecas:"
   ]
  },
  {
   "cell_type": "code",
   "execution_count": 1,
   "metadata": {},
   "outputs": [],
   "source": [
    "%matplotlib inline"
   ]
  },
  {
   "cell_type": "code",
   "execution_count": 2,
   "metadata": {},
   "outputs": [],
   "source": [
    "from __future__ import print_function\n",
    "\n",
    "from ipywidgets import interact, widgets\n",
    "from matplotlib.animation import FuncAnimation, writers\n",
    "from gamap_colormap import WhGrYlRd\n",
    "from IPython.display import HTML\n",
    "from math import ceil\n",
    "\n",
    "import matplotlib.pyplot as plt\n",
    "import cartopy.crs as ccrs\n",
    "import numpy as np\n",
    "import xarray as xr\n",
    "import warnings\n",
    "import xbpch\n",
    "import glob\n",
    "\n",
    "warnings.filterwarnings(\"ignore\")  # hide some xbpch warnings\n",
    "\n",
    "# Set up formatting for the movie files\n",
    "Writer = writers['ffmpeg']\n",
    "writer = Writer(fps=1, metadata=dict(artist='Me'), bitrate=1800)"
   ]
  },
  {
   "cell_type": "markdown",
   "metadata": {},
   "source": [
    "## Global variables"
   ]
  },
  {
   "cell_type": "markdown",
   "metadata": {},
   "source": [
    "Caminhos para os arquivos:\n",
    "\n",
    "- `trac`: arquivo de saída do Geos-Chem, normalmente em formato bpch our netcdf\n",
    "- `tracerinfo` e `diaginfo`: caso `trac` esteja em formato bpch, os arquivos [tracerinfo|diaginfo].dat são necessários para leitura\n",
    "- `f_out`: caminho para salvar as figuras do plot, caso seja habilitada nas funções\n",
    "\n",
    "Se a análise for em múltiplos arquivos bpch da saída do ND49. Basta colocar o path da pasta em `trac`."
   ]
  },
  {
   "cell_type": "code",
   "execution_count": 3,
   "metadata": {},
   "outputs": [],
   "source": [
    "# Files path\n",
    "ARGS = {\n",
    "    \"trac\": \"/home/user/dev/my/geoschem-data-analysis/temp/history/GC_201501-02_ND49_1_2_4/\",\n",
    "    \"tracerinfo\": \"/home/user/dev/my/geoschem-data-analysis/temp/history/GC_201501-02_ND49_1_2_4/tracerinfo.dat\",\n",
    "    \"diaginfo\": \"/home/user/dev/my/geoschem-data-analysis/temp/history/GC_201501-02_ND49_1_2_4/diaginfo.dat\",\n",
    "    \"f_out\": lambda x, l, t: f\"out/img/{x}_lev_{l}_{t}.png\",\n",
    "    \"anim\": 'out/output_geoschem.mp4',\n",
    "}"
   ]
  },
  {
   "cell_type": "markdown",
   "metadata": {},
   "source": [
    "## Functions"
   ]
  },
  {
   "cell_type": "markdown",
   "metadata": {},
   "source": [
    "Função para retornar um array com elementos de `0...(variable - 1)`\n",
    "\n",
    "_Exemplo:_\n",
    "\n",
    "- variable = 2 -> rlen(variable) = [0, 1]\n",
    "- variable = 5 -> rlen(variable) = [0, 1, 2, 3, 4]"
   ]
  },
  {
   "cell_type": "code",
   "execution_count": 4,
   "metadata": {},
   "outputs": [],
   "source": [
    "def rlen(variable):\n",
    "    return range(len(variable))"
   ]
  },
  {
   "cell_type": "markdown",
   "metadata": {},
   "source": [
    "Função para exibir os dados por plot em mapa cartográfico.\n",
    "\n",
    "- `emiss`: xarray com os dados de saída do Geos-Chem\n",
    "- `tracers`: uma lista das variáveis que deseja exibir\n",
    "- `times`: uma lista de inteiros com os índices dos times da simulação\n",
    "- `levs`: uma lista de inteiros com as `lev` que deseja exibir\n",
    "- `save`: um boleano indicando se deseja salvar a(s) imagem(es) de output"
   ]
  },
  {
   "cell_type": "code",
   "execution_count": 5,
   "metadata": {},
   "outputs": [],
   "source": [
    "def plot_static(\n",
    "    emiss: xr.Dataset,\n",
    "    tracers: [str],\n",
    "    times: [int],\n",
    "    levs: [int],\n",
    "    save: bool = False\n",
    "):\n",
    "    emissions = emiss[tracers]\n",
    "    full_time = emissions.time.values\n",
    "    time_size = len(times)\n",
    "    # Row and col dynamic processing for subplots\n",
    "    rows = ceil(time_size/2)\n",
    "    cols = 1 if time_size == 1 else 2\n",
    "    \n",
    "    # Get each tracer in emissions xarray\n",
    "    for tracer in emissions.values():\n",
    "        print(f\"TRACER {tracer.name}\")\n",
    "        \n",
    "        # Check if exists lev on tracer\n",
    "        have_lev = True\n",
    "        identified_levs = levs\n",
    "        \n",
    "        if \"lev\" not in tracer.dims:\n",
    "            have_lev = False\n",
    "            identified_levs = [\"the is no lev\"]\n",
    "\n",
    "        # Get each lev\n",
    "        for l in identified_levs:\n",
    "            print(f\"LEV {l}\")\n",
    "            \n",
    "            # Create the subplots\n",
    "            fig, axes = plt.subplots(\n",
    "                rows,\n",
    "                cols,\n",
    "                figsize=(15, 7),\n",
    "                subplot_kw={\"projection\": ccrs.PlateCarree()}\n",
    "            )\n",
    "            \n",
    "            # Prepare `isel` parameters\n",
    "            kwargs = {}\n",
    "            if have_lev:\n",
    "                kwargs[\"lev\"] = l\n",
    "\n",
    "            # Plot diagnotics for each time\n",
    "            for ax, t in zip(axes, times):\n",
    "                kwargs[\"time\"] = t # adds time in parameters\n",
    "                tracer.isel(**kwargs).plot(\n",
    "                    ax=ax,\n",
    "                    cmap=WhGrYlRd,\n",
    "                    vmin=0,\n",
    "                    cbar_kwargs={\"shrink\": 0.5, \"label\": tracer.units},\n",
    "                )\n",
    "                ax.set_title(f\"{tracer.name} lev {l} - {full_time[t]}\")\n",
    "                ax.coastlines()\n",
    "                ax.gridlines(linestyle=\"--\")\n",
    "            \n",
    "            plt.show()\n",
    "            plt.tight_layout()\n",
    "                \n",
    "            if save:\n",
    "                plt.savefig(ARGS[\"f_out\"](tracer.name, l, full_time[t]))"
   ]
  },
  {
   "cell_type": "markdown",
   "metadata": {},
   "source": [
    "## Analysis"
   ]
  },
  {
   "cell_type": "markdown",
   "metadata": {},
   "source": [
    "Leitura do arquivo `bpch` ou `netcdf`. É necessário identificar qual o formato do seu arquivo de saída. `netcdf` é possível a partir da versão _v11-02a_.\n",
    "\n",
    "__bpch__ é o formato _default_ do Geos-Chem, embora sera retirado na versão 12.7 sendo substituido pelo `netcdf`.\n",
    "Para abrir o `bpch` é preciso informar os arquivos __.dat__ que contém os nomes dos rastreadores e alguns metadados necessários.\n",
    "\n",
    "__netcdf__, diferente do `bpch`, é um formato completo e robusto sendo auto suficiente para apresentar qualquer informação, no mesmo arquivo existem os metadados e os nomes dos rasteradores. Desse modo, para o `netcdf`, basta ele próprio.\n",
    "\n",
    "Devido estarmos utilizando o xarray e o xbpch (interface para o xarray), o único comando que diferencia a forma de trabalho com esses arquivos é a própria abertura. Todos os próximos comandos mantem a mesma estrutura independente do formato.\n",
    "\n",
    "### Abertura e visualização dos dados:"
   ]
  },
  {
   "cell_type": "code",
   "execution_count": 6,
   "metadata": {
    "scrolled": true
   },
   "outputs": [
    {
     "data": {
      "text/plain": [
       "<xarray.Dataset>\n",
       "Dimensions:      (lat: 46, lev: 72, lon: 72, nv: 2, time: 708)\n",
       "Coordinates:\n",
       "  * lev          (lev) float64 0.9925 0.9775 0.9624 ... 1.614e-05 4.935e-06\n",
       "  * nv           (nv) int64 0 1\n",
       "  * lat          (lat) float64 -89.0 -86.0 -82.0 -78.0 ... 78.0 82.0 86.0 89.0\n",
       "  * lon          (lon) float64 -180.0 -175.0 -170.0 -165.0 ... 165.0 170.0 175.0\n",
       "  * time         (time) datetime64[ns] 2015-01-01T02:00:00 ... 2015-03-01\n",
       "Data variables:\n",
       "    IJ_AVG_S_NO  (time, lon, lat, lev) float32 dask.array<chunksize=(1, 72, 46, 72), meta=np.ndarray>\n",
       "    time_bnds    (time, nv) datetime64[ns] 2015-01-01T02:00:00 ... 2015-03-01\n",
       "    IJ_AVG_S_O3  (time, lon, lat, lev) float32 dask.array<chunksize=(1, 72, 46, 72), meta=np.ndarray>\n",
       "    IJ_AVG_S_CO  (time, lon, lat, lev) float32 dask.array<chunksize=(1, 72, 46, 72), meta=np.ndarray>\n",
       "Attributes:\n",
       "    modelname:    GEOSFP\n",
       "    halfpolar:    1\n",
       "    center180:    1\n",
       "    res:          (5.0, 4.0)\n",
       "    Conventions:  CF1.6\n",
       "    source:       /home/user/dev/my/geoschem-data-analysis/temp/history/GC_20...\n",
       "    tracerinfo:   /home/user/dev/my/geoschem-data-analysis/temp/history/GC_20...\n",
       "    diaginfo:     /home/user/dev/my/geoschem-data-analysis/temp/history/GC_20...\n",
       "    filetype:     CTM bin 02\n",
       "    filetitle:    GEOS-CHEM DIAG49 instantaneous timeseries\n",
       "    history:      18:42:57 12-09-2019: Processed/loaded by xbpch-0.3.5 from /..."
      ]
     },
     "execution_count": 6,
     "metadata": {},
     "output_type": "execute_result"
    }
   ],
   "source": [
    "# Open all bpch ND49 (concat)\n",
    "nd49 = [f for f in glob.glob(ARGS['trac'] + \"ts*.bpch\")]\n",
    "df_trac = xbpch.open_mfbpchdataset(\n",
    "    nd49,\n",
    "    dask=True,\n",
    "    memmap=True,\n",
    "    tracerinfo_file=ARGS[\"tracerinfo\"],\n",
    "    diaginfo_file=ARGS[\"diaginfo\"]\n",
    ")\n",
    "df_trac = df_trac.sortby(\"time\")\n",
    "\n",
    "# Open bpch\n",
    "# df_trac = xbpch.open_bpchdataset(\n",
    "#     ARGS[\"trac\"],\n",
    "#     tracerinfo_file=ARGS[\"tracerinfo\"],\n",
    "#     diaginfo_file=ARGS[\"diaginfo\"],\n",
    "# )\n",
    "\n",
    "# Open netcdf\n",
    "# df_trac = xr.open_dataset(ARGS[\"trac\"])\n",
    "\n",
    "df_trac"
   ]
  },
  {
   "cell_type": "markdown",
   "metadata": {},
   "source": [
    "Listar todas variáveis existentes no arquivo:"
   ]
  },
  {
   "cell_type": "code",
   "execution_count": 7,
   "metadata": {
    "scrolled": true
   },
   "outputs": [
    {
     "data": {
      "text/plain": [
       "['IJ_AVG_S_CO', 'IJ_AVG_S_NO', 'IJ_AVG_S_O3', 'time_bnds']"
      ]
     },
     "execution_count": 7,
     "metadata": {},
     "output_type": "execute_result"
    }
   ],
   "source": [
    "variables = list(df_trac.data_vars)\n",
    "variables.sort() # ordena\n",
    "variables"
   ]
  },
  {
   "cell_type": "markdown",
   "metadata": {},
   "source": [
    "É possível selecionar uma variável específica por manipulação do `df_trac`:"
   ]
  },
  {
   "cell_type": "code",
   "execution_count": 8,
   "metadata": {},
   "outputs": [
    {
     "data": {
      "application/vnd.jupyter.widget-view+json": {
       "model_id": "46174e81eec34de9a0b0225c73df558e",
       "version_major": 2,
       "version_minor": 0
      },
      "text/plain": [
       "interactive(children=(Dropdown(description='variable', options=('IJ_AVG_S_CO', 'IJ_AVG_S_NO', 'IJ_AVG_S_O3', '…"
      ]
     },
     "metadata": {},
     "output_type": "display_data"
    }
   ],
   "source": [
    "@interact(variable=widgets.Dropdown(options=variables))\n",
    "def _show(variable):\n",
    "    try:\n",
    "        display(df_trac[variable])\n",
    "    except Exception as e:\n",
    "        display(e)"
   ]
  },
  {
   "cell_type": "markdown",
   "metadata": {},
   "source": [
    "Existem duas variáveis que podem ser descartadas por não serem muito úteis:\n",
    "\n",
    "- `time_bnds`: limites de tempo\n",
    "- `nv`: dimensão redundante\n",
    "\n",
    "Exibição dos `time_bnds`:"
   ]
  },
  {
   "cell_type": "code",
   "execution_count": 9,
   "metadata": {},
   "outputs": [],
   "source": [
    "try:\n",
    "    df_trac[\"time_bnds\"]\n",
    "except Exception as e:\n",
    "    display(e)"
   ]
  },
  {
   "cell_type": "markdown",
   "metadata": {},
   "source": [
    "Exibição da `nv`:"
   ]
  },
  {
   "cell_type": "code",
   "execution_count": 10,
   "metadata": {},
   "outputs": [],
   "source": [
    "try:\n",
    "    df_trac[\"nv\"]\n",
    "except Exception as e:\n",
    "    display(e)"
   ]
  },
  {
   "cell_type": "markdown",
   "metadata": {},
   "source": [
    "Descarte:"
   ]
  },
  {
   "cell_type": "code",
   "execution_count": 11,
   "metadata": {},
   "outputs": [],
   "source": [
    "try:\n",
    "    df_trac = df_trac.drop(\"time_bnds\")\n",
    "    df_trac = df_trac.drop(\"nv\")\n",
    "except Exception as e:\n",
    "    display(e)"
   ]
  },
  {
   "cell_type": "markdown",
   "metadata": {},
   "source": [
    "Conforme citado, existem três tipos de componentes na estrutura: as variáveis, coordenadas e atributos. Anteriormente foi explicado como é possível obter a lista de variáveis presentes no arquivo, abaixo será abordado como obter as coordenadas e atributos.\n",
    "\n",
    "Coordenadas existentes em CO:"
   ]
  },
  {
   "cell_type": "code",
   "execution_count": 12,
   "metadata": {},
   "outputs": [
    {
     "data": {
      "application/vnd.jupyter.widget-view+json": {
       "model_id": "d27d419ef26141338fc49a91c276aa8c",
       "version_major": 2,
       "version_minor": 0
      },
      "text/plain": [
       "interactive(children=(Dropdown(description='variable', options=('IJ_AVG_S_CO', 'IJ_AVG_S_NO', 'IJ_AVG_S_O3', '…"
      ]
     },
     "metadata": {},
     "output_type": "display_data"
    }
   ],
   "source": [
    "@interact(variable=widgets.Dropdown(options=variables))\n",
    "def _show(variable):\n",
    "    try:\n",
    "        display(df_trac[variable].coords)\n",
    "    except Exception as e:\n",
    "        display(e)"
   ]
  },
  {
   "cell_type": "markdown",
   "metadata": {},
   "source": [
    "É possível também obter a lista através de `dims`"
   ]
  },
  {
   "cell_type": "code",
   "execution_count": 13,
   "metadata": {},
   "outputs": [
    {
     "data": {
      "application/vnd.jupyter.widget-view+json": {
       "model_id": "02ee0b07c4024fda99e83e3d41281953",
       "version_major": 2,
       "version_minor": 0
      },
      "text/plain": [
       "interactive(children=(Dropdown(description='variable', options=('IJ_AVG_S_CO', 'IJ_AVG_S_NO', 'IJ_AVG_S_O3', '…"
      ]
     },
     "metadata": {},
     "output_type": "display_data"
    }
   ],
   "source": [
    "@interact(variable=widgets.Dropdown(options=variables))\n",
    "def _show(variable):\n",
    "    try:\n",
    "        display(df_trac[variable].dims)\n",
    "    except Exception as e:\n",
    "        display(e)"
   ]
  },
  {
   "cell_type": "markdown",
   "metadata": {},
   "source": [
    "Atributos existentes em CO:"
   ]
  },
  {
   "cell_type": "code",
   "execution_count": 14,
   "metadata": {},
   "outputs": [
    {
     "data": {
      "application/vnd.jupyter.widget-view+json": {
       "model_id": "885b9bd37ff4484faf24c1ee31ee0acf",
       "version_major": 2,
       "version_minor": 0
      },
      "text/plain": [
       "interactive(children=(Dropdown(description='variable', options=('IJ_AVG_S_CO', 'IJ_AVG_S_NO', 'IJ_AVG_S_O3', '…"
      ]
     },
     "metadata": {},
     "output_type": "display_data"
    }
   ],
   "source": [
    "@interact(variable=widgets.Dropdown(options=variables))\n",
    "def _show(variable):\n",
    "    try:\n",
    "        display(df_trac[variable].attrs)\n",
    "    except Exception as e:\n",
    "        display(e)"
   ]
  },
  {
   "cell_type": "markdown",
   "metadata": {},
   "source": [
    "O comando `values` possibilita o acesso a todos os valores existentes da matriz multidimensional (`df_trac[\"IJ_AVG_S_CO\"].values`). Porém, recomendo o uso de `sel` ou `isel` que permite o acesso as n-dimensões semelhante ao `loc` e `iloc` do numpy (`df_trac[\"IJ_AVG_S_CO\"].isel(time=0, lev=0)`).\n",
    "\n",
    "Mais informações em [indexing with xarray](http://xarray.pydata.org/en/stable/indexing.html)."
   ]
  },
  {
   "cell_type": "markdown",
   "metadata": {},
   "source": [
    "### Manipulação do arquivo"
   ]
  },
  {
   "cell_type": "markdown",
   "metadata": {},
   "source": [
    "Algumas variáveis possuem dimensão 4D. A ordem convencional é (time, lev, lat, lon), no `bpch` é observado a ordem (time, lon, lat, lev). Com a função `transpose` é possível alterar a ordem da dimensionalidade.\n",
    "\n",
    "_Obs: verifique se na sua entrada não existem variáveis com dimensões divergentes, caso exista, antes de executar o comando abaixo é necessário que extraia apenas as variáveis que respeitem a dimensão com as coordenadas informadas. Uma forma de extrair apenas essas variáveis pode ser feitas através do comando:_\n",
    "\n",
    "- `df_extracao = df_trac[[lista_de_variáveis_de_interesse]]`\n",
    "\n",
    "_Exemplo:_ Obtendo os dados das concentrações de __O3__ e __SO2__\n",
    "\n",
    "- `df_extracao = df_trac[['IJ_AVG_S_O3', 'IJ_AVG_S_SO2']]`\n",
    "\n",
    "_Desse modo, as manipulações podem ser feitas sobre a variável df_extracao_\n",
    "\n",
    "_Obs: O formato bpch inverte a dimensionalidade entre lat e lon, prejudicando a exibição real. `transpose` pode corrigir esse problema._"
   ]
  },
  {
   "cell_type": "code",
   "execution_count": 15,
   "metadata": {},
   "outputs": [],
   "source": [
    "# df_trac = df_trac.transpose(\"time\", \"lev\", \"lat\", \"lon\")\n",
    "df_trac = df_trac.transpose()"
   ]
  },
  {
   "cell_type": "markdown",
   "metadata": {},
   "source": [
    "É possível também converter o arquivo `bpch` para `netcdf`:"
   ]
  },
  {
   "cell_type": "code",
   "execution_count": 16,
   "metadata": {},
   "outputs": [],
   "source": [
    "# df_trac_fe = xbpch.common.fix_attr_encoding(df_trac)\n",
    "# df_trac_fe.to_netcdf(f\"{ARGS['trac']}.nc\")"
   ]
  },
  {
   "cell_type": "markdown",
   "metadata": {},
   "source": [
    "Caso possua o `ncdump` instalado, é possível executar o comando do terminal de leitura do arquivo:\n",
    "\n",
    "O caracter __!__ indica a o jupyter que o comando deve ser executado no terminal."
   ]
  },
  {
   "cell_type": "code",
   "execution_count": 17,
   "metadata": {},
   "outputs": [],
   "source": [
    "# !ncdump -h caminho_do_trac.nc"
   ]
  },
  {
   "cell_type": "markdown",
   "metadata": {},
   "source": [
    "### Plot\n",
    "\n",
    "Esse notebook foi desenvolvido com objetivo de possibilitar uma análise gráfica estática e dinâmica. A função `plot_static`, apresentada no inicio do documento, possibilita selecionar as variáveis, períodos e lev específicos para plotagem e salvar seu output. Enquanto que a função `plot_dynamic`, apresentado abaixo, possibilita uma visualização interativa."
   ]
  },
  {
   "cell_type": "markdown",
   "metadata": {},
   "source": [
    "#### Static"
   ]
  },
  {
   "cell_type": "code",
   "execution_count": 18,
   "metadata": {},
   "outputs": [
    {
     "data": {
      "application/vnd.jupyter.widget-view+json": {
       "model_id": "993d0de66d464ca1a384b675d6daef6d",
       "version_major": 2,
       "version_minor": 0
      },
      "text/plain": [
       "interactive(children=(SelectMultiple(description='tracers', options=('IJ_AVG_S_CO', 'IJ_AVG_S_NO', 'IJ_AVG_S_O…"
      ]
     },
     "metadata": {},
     "output_type": "display_data"
    }
   ],
   "source": [
    "@interact(tracers=widgets.SelectMultiple(options=variables))\n",
    "def _plot(tracers):\n",
    "    try:\n",
    "        plot_static(\n",
    "            emiss=df_trac,\n",
    "            tracers=list(tracers),\n",
    "            times=[0, 1],\n",
    "            levs=[0, 22],\n",
    "            save=True\n",
    "        )\n",
    "    except Exception as e:\n",
    "        display(e)"
   ]
  },
  {
   "cell_type": "markdown",
   "metadata": {},
   "source": [
    "#### Interactive"
   ]
  },
  {
   "cell_type": "code",
   "execution_count": 19,
   "metadata": {},
   "outputs": [
    {
     "data": {
      "application/vnd.jupyter.widget-view+json": {
       "model_id": "7b4f12b12e6f47e18a36f28945435ff6",
       "version_major": 2,
       "version_minor": 0
      },
      "text/plain": [
       "interactive(children=(Dropdown(description='variable', options=('IJ_AVG_S_CO', 'IJ_AVG_S_NO', 'IJ_AVG_S_O3', '…"
      ]
     },
     "metadata": {},
     "output_type": "display_data"
    }
   ],
   "source": [
    "@interact(\n",
    "    variable=widgets.Dropdown(options=variables, continuous_update=False), \n",
    "    lev=widgets.IntSlider(min=0, max=46, step=1, continuous_update=False),\n",
    ")\n",
    "def plot_dynamic(variable, lev):\n",
    "    try:\n",
    "        # Configures plot\n",
    "        tracer = df_trac[variable]\n",
    "        fig = plt.figure(figsize=(14, 7))\n",
    "        ax = plt.axes(projection=ccrs.PlateCarree())\n",
    "        kwargs = {}\n",
    "        \n",
    "        # Initial time\n",
    "        if \"time\" in tracer.dims:\n",
    "            kwargs[\"time\"] = 0\n",
    "            tracer_t = tracer.time\n",
    "            time_v = tracer_t.values[0]\n",
    "        else:\n",
    "            tracer_t = [0]\n",
    "            time_v = \"there is no time\"\n",
    "        \n",
    "        # Checks if exist lev\n",
    "        if \"lev\" in tracer.dims:\n",
    "            kwargs[\"lev\"] = lev\n",
    "            lev_v = tracer.lev.values[lev]\n",
    "        else:\n",
    "            lev_v = \"there is no lev\"\n",
    "        \n",
    "        # Initial plot\n",
    "        image = tracer.isel(**kwargs).plot.imshow(\n",
    "            ax=ax, cmap=WhGrYlRd, animated=True\n",
    "        )\n",
    "        \n",
    "        # Reconfigures plot\n",
    "        ax.set_title(f\"lev = {lev_v} | time = {time_v}\", y=1.05)\n",
    "        ax.gridlines(draw_labels=True, linestyle=\"--\")\n",
    "        ax.coastlines()\n",
    "        \n",
    "        def update(t):\n",
    "            # Update time in kwargs and get full time\n",
    "            if \"time\" in tracer.dims:\n",
    "                kwargs[\"time\"] = t\n",
    "                time_v = tracer_t.values[t]\n",
    "            else:\n",
    "                time_v = \"there is no time\"\n",
    "            \n",
    "            \n",
    "            # Update the plot for a specific time\n",
    "            ax.set_title(f\"lev = {lev_v} | time = {time_v}\")\n",
    "            image.set_array(tracer.isel(**kwargs))\n",
    "            return image,\n",
    "\n",
    "        # Run the animation, applying `update()` for each of the times in the tracer\n",
    "        anim = FuncAnimation(\n",
    "            fig,\n",
    "            update,\n",
    "            frames=range(len(tracer_t)),\n",
    "            blit=True,\n",
    "            interval=1000\n",
    "        )\n",
    "        \n",
    "        anim.save(ARGS['anim'], writer=writer)\n",
    "        plt.close(anim._fig)\n",
    "        return HTML(anim.to_html5_video())\n",
    "    except Exception as e:\n",
    "        print(f\"{e}\")"
   ]
  },
  {
   "cell_type": "markdown",
   "metadata": {},
   "source": [
    "Fonte: [GEOSChem-python-tutorial](https://github.com/geoschem/GEOSChem-python-tutorial)"
   ]
  }
 ],
 "metadata": {
  "kernelspec": {
   "display_name": "Python 3",
   "language": "python",
   "name": "python3"
  },
  "language_info": {
   "codemirror_mode": {
    "name": "ipython",
    "version": 3
   },
   "file_extension": ".py",
   "mimetype": "text/x-python",
   "name": "python",
   "nbconvert_exporter": "python",
   "pygments_lexer": "ipython3",
   "version": "3.6.9"
  }
 },
 "nbformat": 4,
 "nbformat_minor": 4
}
